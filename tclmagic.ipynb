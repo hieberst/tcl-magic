{
 "cells": [
  {
   "cell_type": "markdown",
   "metadata": {},
   "source": [
    "# Tcl magics documentation\n",
    "\n",
    "[IPython](https://ipython.org) extension which adds [Tcl](https://www.tcl.tk) magics.\n",
    "\n",
    "## Installation\n",
    "\n",
    "Install or upgrade with `pip`:\n",
    "\n",
    "    pip install -U tcl-magic"
   ]
  },
  {
   "cell_type": "markdown",
   "metadata": {},
   "source": [
    "## Motivation"
   ]
  },
  {
   "cell_type": "markdown",
   "metadata": {},
   "source": [
    "### Differentiation to `%%script tclsh`"
   ]
  },
  {
   "cell_type": "markdown",
   "metadata": {},
   "source": [
    "#### The result must be printed"
   ]
  },
  {
   "cell_type": "code",
   "execution_count": 1,
   "metadata": {},
   "outputs": [],
   "source": [
    "%%script tclsh --out A\n",
    "set a 3\n",
    "puts -nonewline $a"
   ]
  },
  {
   "cell_type": "code",
   "execution_count": 2,
   "metadata": {},
   "outputs": [
    {
     "data": {
      "text/plain": [
       "'3'"
      ]
     },
     "execution_count": 2,
     "metadata": {},
     "output_type": "execute_result"
    }
   ],
   "source": [
    "A"
   ]
  },
  {
   "cell_type": "markdown",
   "metadata": {},
   "source": [
    "#### %%script does not hold state"
   ]
  },
  {
   "cell_type": "code",
   "execution_count": 3,
   "metadata": {},
   "outputs": [
    {
     "name": "stderr",
     "output_type": "stream",
     "text": [
      "can't read \"a\": no such variable\n"
     ]
    }
   ],
   "source": [
    "%%script tclsh\n",
    "puts [expr $a + 1]"
   ]
  },
  {
   "cell_type": "markdown",
   "metadata": {},
   "source": [
    "## Usage"
   ]
  },
  {
   "cell_type": "markdown",
   "metadata": {},
   "source": [
    "### Load the extension"
   ]
  },
  {
   "cell_type": "code",
   "execution_count": 4,
   "metadata": {},
   "outputs": [
    {
     "data": {
      "application/javascript": [
       "\n",
       "            requirejs.config({\n",
       "                paths: {\n",
       "                    codemirror: \"https://cdn.rawgit.com/marijnh/CodeMirror/master\"\n",
       "                }\n",
       "            });\n",
       "            requirejs([\"codemirror/mode/tcl/tcl\"], function(codemirror) {\n",
       "                IPython.CodeCell.options_default.highlight_modes['magic_text/x-tcl'] = {'reg':[/^%%tcl/]};\n",
       "                IPython.notebook.events.one('kernel_ready.Kernel', function() {\n",
       "                    IPython.notebook.get_cells().map(function(cell) {\n",
       "                        if (cell.cell_type == 'code') {\n",
       "                            cell.auto_highlight();\n",
       "                        }\n",
       "                    });\n",
       "                });\n",
       "            });\n",
       "        "
      ]
     },
     "metadata": {},
     "output_type": "display_data"
    }
   ],
   "source": [
    "%load_ext tclmagic"
   ]
  },
  {
   "cell_type": "code",
   "execution_count": 5,
   "metadata": {},
   "outputs": [
    {
     "data": {
      "application/javascript": [
       "\n",
       "            requirejs.config({\n",
       "                paths: {\n",
       "                    codemirror: \"https://cdn.rawgit.com/marijnh/CodeMirror/master\"\n",
       "                }\n",
       "            });\n",
       "            requirejs([\"codemirror/mode/tcl/tcl\"], function(codemirror) {\n",
       "                IPython.CodeCell.options_default.highlight_modes['magic_text/x-tcl'] = {'reg':[/^%%tcl/]};\n",
       "                IPython.notebook.events.one('kernel_ready.Kernel', function() {\n",
       "                    IPython.notebook.get_cells().map(function(cell) {\n",
       "                        if (cell.cell_type == 'code') {\n",
       "                            cell.auto_highlight();\n",
       "                        }\n",
       "                    });\n",
       "                });\n",
       "            });\n",
       "        "
      ]
     },
     "metadata": {},
     "output_type": "display_data"
    }
   ],
   "source": [
    "%reload_ext tclmagic"
   ]
  },
  {
   "cell_type": "markdown",
   "metadata": {},
   "source": [
    "### Examples"
   ]
  },
  {
   "cell_type": "code",
   "execution_count": 6,
   "metadata": {},
   "outputs": [],
   "source": [
    "%%tcl\n",
    "set pi [expr acos(-1)]\n",
    "\n",
    "proc circumference {r} {\n",
    "    global pi\n",
    "    return [expr 2 * $r * $pi]\n",
    "}"
   ]
  },
  {
   "cell_type": "code",
   "execution_count": 7,
   "metadata": {},
   "outputs": [
    {
     "data": {
      "text/plain": [
       "12.566370614359172"
      ]
     },
     "execution_count": 7,
     "metadata": {},
     "output_type": "execute_result"
    }
   ],
   "source": [
    "%%tcl\n",
    "set tcl_precision 17\n",
    "circumference 2"
   ]
  },
  {
   "cell_type": "code",
   "execution_count": 8,
   "metadata": {},
   "outputs": [
    {
     "data": {
      "text/plain": [
       "3.141592653589793"
      ]
     },
     "execution_count": 8,
     "metadata": {},
     "output_type": "execute_result"
    }
   ],
   "source": [
    "%tcl pi.tcl"
   ]
  },
  {
   "cell_type": "markdown",
   "metadata": {},
   "source": [
    "## Known issues"
   ]
  },
  {
   "cell_type": "markdown",
   "metadata": {},
   "source": [
    "### The output of `puts` goes the Notebook server console"
   ]
  },
  {
   "cell_type": "code",
   "execution_count": 9,
   "metadata": {},
   "outputs": [],
   "source": [
    "%%tcl Steffen\n",
    "set name [lindex $argv 0]\n",
    "puts \"Hello, $name.\""
   ]
  },
  {
   "cell_type": "markdown",
   "metadata": {},
   "source": [
    "### Unload the extension"
   ]
  },
  {
   "cell_type": "code",
   "execution_count": 10,
   "metadata": {},
   "outputs": [],
   "source": [
    "%unload_ext tclmagic"
   ]
  }
 ],
 "metadata": {
  "kernelspec": {
   "display_name": "Python 3",
   "language": "python",
   "name": "python3"
  },
  "language_info": {
   "codemirror_mode": {
    "name": "ipython",
    "version": 3
   },
   "file_extension": ".py",
   "mimetype": "text/x-python",
   "name": "python",
   "nbconvert_exporter": "python",
   "pygments_lexer": "ipython3",
   "version": "3.6.6"
  }
 },
 "nbformat": 4,
 "nbformat_minor": 2
}
